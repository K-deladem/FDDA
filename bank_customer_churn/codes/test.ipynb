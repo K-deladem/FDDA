{
 "cells": [
  {
   "cell_type": "code",
   "execution_count": null,
   "id": "initial_id",
   "metadata": {
    "collapsed": true
   },
   "outputs": [],
   "source": [
    ""
   ]
  },
  {
   "metadata": {
    "ExecuteTime": {
     "end_time": "2024-04-16T05:18:44.707669Z",
     "start_time": "2024-04-16T05:18:44.701045Z"
    }
   },
   "cell_type": "code",
   "source": [
    "import pandas as pd\n",
    "\n",
    "# Data for the first model\n",
    "data1 = {\n",
    "    \"Metric\": [\"Best Model Parameters\", \"Best Model\", \"Accuracy\", \"Precision\", \"Recall\", \"F1 Score\", \"ROC AUC\", \"Confusion Matrix\"],\n",
    "    \"Value\": [\n",
    "        \"RandomForestClassifier(max_features=2, n_estimators=1000, random_state=42)\",\n",
    "        \"Pipeline(steps=[('scaler', StandardScaler()), ('reduce_dim', PCA()), ('model', RandomForestClassifier(max_features=2, n_estimators=1000, random_state=42))])\",\n",
    "        0.865,\n",
    "        0.8555107343619889,\n",
    "        0.865,\n",
    "        0.8518651630425614,\n",
    "        0.8555888598070464,\n",
    "        \"[[1548, 59], [211, 182]]\"\n",
    "    ]\n",
    "}\n",
    "\n",
    "# Data for the second model with StratifiedKFold\n",
    "data2 = {\n",
    "    \"Metric\": [\"Best Model Parameters\", \"Best Model\", \"Accuracy\", \"Precision\", \"Recall\", \"F1 Score\", \"ROC AUC\", \"Confusion Matrix\"],\n",
    "    \"Value\": [\n",
    "        \"RandomForestClassifier(max_features=3, n_estimators=1000, random_state=42)\",\n",
    "        \"Pipeline(steps=[('scaler', StandardScaler()), ('reduce_dim', PCA()), ('model', RandomForestClassifier(max_features=3, n_estimators=1000, random_state=42))])\",\n",
    "        0.861,\n",
    "        0.8502834469480148,\n",
    "        0.861,\n",
    "        0.8488390942103232,\n",
    "        0.8531179588030102,\n",
    "        \"[[1538, 69], [209, 184]]\"\n",
    "    ]\n",
    "}\n",
    "\n",
    "# Creating DataFrames for the models\n",
    "df1 = pd.DataFrame(data1)\n",
    "df2 = pd.DataFrame(data2)\n",
    "\n",
    "# Combining the DataFrames side by side for comparison\n",
    "comparison_table = pd.concat([df1, df2], axis=1)\n",
    "\n",
    "# Renaming columns for clarity\n",
    "comparison_table.columns = [\"Metric\", \"Model 1\", \"Metric\", \"Model 2\"]\n",
    "comparison_table = comparison_table.drop(columns=[\"Metric\"]).iloc[:, ::2]\n",
    "\n",
    "comparison_table\n"
   ],
   "id": "7777b1b2e2eed6d7",
   "outputs": [
    {
     "data": {
      "text/plain": [
       "                                             Model 1\n",
       "0  RandomForestClassifier(max_features=2, n_estim...\n",
       "1  Pipeline(steps=[('scaler', StandardScaler()), ...\n",
       "2                                              0.865\n",
       "3                                           0.855511\n",
       "4                                              0.865\n",
       "5                                           0.851865\n",
       "6                                           0.855589\n",
       "7                           [[1548, 59], [211, 182]]"
      ],
      "text/html": [
       "<div>\n",
       "<style scoped>\n",
       "    .dataframe tbody tr th:only-of-type {\n",
       "        vertical-align: middle;\n",
       "    }\n",
       "\n",
       "    .dataframe tbody tr th {\n",
       "        vertical-align: top;\n",
       "    }\n",
       "\n",
       "    .dataframe thead th {\n",
       "        text-align: right;\n",
       "    }\n",
       "</style>\n",
       "<table border=\"1\" class=\"dataframe\">\n",
       "  <thead>\n",
       "    <tr style=\"text-align: right;\">\n",
       "      <th></th>\n",
       "      <th>Model 1</th>\n",
       "    </tr>\n",
       "  </thead>\n",
       "  <tbody>\n",
       "    <tr>\n",
       "      <th>0</th>\n",
       "      <td>RandomForestClassifier(max_features=2, n_estim...</td>\n",
       "    </tr>\n",
       "    <tr>\n",
       "      <th>1</th>\n",
       "      <td>Pipeline(steps=[('scaler', StandardScaler()), ...</td>\n",
       "    </tr>\n",
       "    <tr>\n",
       "      <th>2</th>\n",
       "      <td>0.865</td>\n",
       "    </tr>\n",
       "    <tr>\n",
       "      <th>3</th>\n",
       "      <td>0.855511</td>\n",
       "    </tr>\n",
       "    <tr>\n",
       "      <th>4</th>\n",
       "      <td>0.865</td>\n",
       "    </tr>\n",
       "    <tr>\n",
       "      <th>5</th>\n",
       "      <td>0.851865</td>\n",
       "    </tr>\n",
       "    <tr>\n",
       "      <th>6</th>\n",
       "      <td>0.855589</td>\n",
       "    </tr>\n",
       "    <tr>\n",
       "      <th>7</th>\n",
       "      <td>[[1548, 59], [211, 182]]</td>\n",
       "    </tr>\n",
       "  </tbody>\n",
       "</table>\n",
       "</div>"
      ]
     },
     "execution_count": 2,
     "metadata": {},
     "output_type": "execute_result"
    }
   ],
   "execution_count": 2
  },
  {
   "metadata": {},
   "cell_type": "code",
   "outputs": [],
   "execution_count": null,
   "source": "",
   "id": "c0265b97278ad42a"
  }
 ],
 "metadata": {
  "kernelspec": {
   "display_name": "Python 3",
   "language": "python",
   "name": "python3"
  },
  "language_info": {
   "codemirror_mode": {
    "name": "ipython",
    "version": 2
   },
   "file_extension": ".py",
   "mimetype": "text/x-python",
   "name": "python",
   "nbconvert_exporter": "python",
   "pygments_lexer": "ipython2",
   "version": "2.7.6"
  }
 },
 "nbformat": 4,
 "nbformat_minor": 5
}
